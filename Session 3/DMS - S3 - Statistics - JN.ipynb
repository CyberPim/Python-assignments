{
 "cells": [
  {
   "cell_type": "markdown",
   "metadata": {},
   "source": [
    "# Data Mining and Statistics\n",
    "## Session 3 - Statistics\n",
    "*Peter Stikker - Haarlem, the Netherlands*"
   ]
  },
  {
   "cell_type": "markdown",
   "metadata": {},
   "source": [
    "----"
   ]
  },
  {
   "cell_type": "markdown",
   "metadata": {},
   "source": [
    "This notebook is somewhat different than the ones in the previous sessions. This is not to explain everything we discussed, but to show you an example on how a statistical analysis could be done.\n",
    "\n",
    "Lets get started."
   ]
  },
  {
   "cell_type": "markdown",
   "metadata": {},
   "source": [
    "We'll need our trusted Pandas, Numpy and Pyplot"
   ]
  },
  {
   "cell_type": "code",
   "execution_count": null,
   "metadata": {},
   "outputs": [],
   "source": [
    "# pandas as pd\n",
    "try:\n",
    "    import pandas as pd\n",
    "    print('Pandas already installed, only imported')\n",
    "except:\n",
    "    %pip install pandas\n",
    "    import pandas as pd\n",
    "    print('Pandas was not installed, installed and imported')\n",
    "    \n",
    "# numpy as np\n",
    "try:\n",
    "    import numpy as np\n",
    "    print('NumPy already installed, only imported')\n",
    "except:\n",
    "    %pip install numpy\n",
    "    import numpy as np\n",
    "    print('NumPy was not installed, installed and imported')\n",
    "    \n",
    "# pyplot as plt\n",
    "try:\n",
    "    import matplotlib.pyplot as plt\n",
    "    print('PyPlot already installed, only imported')\n",
    "except:\n",
    "    %pip install matplotlib\n",
    "    import matplotlib.pyplot as plt\n",
    "    print('PyPlot was not installed, installed and imported')    "
   ]
  },
  {
   "cell_type": "markdown",
   "metadata": {},
   "source": [
    "The data we'll use is stored in a file called gss2012. It is data from the general social survey from 2012, held in the USA.\n",
    "\n",
    "Lets load the data frame."
   ]
  },
  {
   "cell_type": "code",
   "execution_count": 26,
   "metadata": {},
   "outputs": [],
   "source": [
    "gss2012_df = pd.read_csv('files/GSS2012.csv', low_memory=False)"
   ]
  },
  {
   "cell_type": "markdown",
   "metadata": {},
   "source": [
    "# Step 0: Data Cleaning"
   ]
  },
  {
   "cell_type": "markdown",
   "metadata": {},
   "source": [
    "For the purpose of the explanation we will investigate if there is anything that could be said about the marital status *mar1* and the gender (*sex*) of the respondents.\n",
    "\n",
    "We first create a dataframe of just those two."
   ]
  },
  {
   "cell_type": "code",
   "execution_count": 27,
   "metadata": {},
   "outputs": [
    {
     "data": {
      "text/html": [
       "<div>\n",
       "<style scoped>\n",
       "    .dataframe tbody tr th:only-of-type {\n",
       "        vertical-align: middle;\n",
       "    }\n",
       "\n",
       "    .dataframe tbody tr th {\n",
       "        vertical-align: top;\n",
       "    }\n",
       "\n",
       "    .dataframe thead th {\n",
       "        text-align: right;\n",
       "    }\n",
       "</style>\n",
       "<table border=\"1\" class=\"dataframe\">\n",
       "  <thead>\n",
       "    <tr style=\"text-align: right;\">\n",
       "      <th></th>\n",
       "      <th>mar1</th>\n",
       "      <th>sex</th>\n",
       "    </tr>\n",
       "  </thead>\n",
       "  <tbody>\n",
       "    <tr>\n",
       "      <th>0</th>\n",
       "      <td>MARRIED</td>\n",
       "      <td>MALE</td>\n",
       "    </tr>\n",
       "    <tr>\n",
       "      <th>1</th>\n",
       "      <td>DIVORCED</td>\n",
       "      <td>FEMALE</td>\n",
       "    </tr>\n",
       "    <tr>\n",
       "      <th>2</th>\n",
       "      <td>MARRIED</td>\n",
       "      <td>FEMALE</td>\n",
       "    </tr>\n",
       "    <tr>\n",
       "      <th>3</th>\n",
       "      <td>SEPARATED</td>\n",
       "      <td>FEMALE</td>\n",
       "    </tr>\n",
       "    <tr>\n",
       "      <th>4</th>\n",
       "      <td>DIVORCED</td>\n",
       "      <td>MALE</td>\n",
       "    </tr>\n",
       "  </tbody>\n",
       "</table>\n",
       "</div>"
      ],
      "text/plain": [
       "        mar1     sex\n",
       "0    MARRIED    MALE\n",
       "1   DIVORCED  FEMALE\n",
       "2    MARRIED  FEMALE\n",
       "3  SEPARATED  FEMALE\n",
       "4   DIVORCED    MALE"
      ]
     },
     "execution_count": 27,
     "metadata": {},
     "output_type": "execute_result"
    }
   ],
   "source": [
    "mar_gen_df = gss2012_df[['mar1', 'sex']]\n",
    "mar_gen_df.head()"
   ]
  },
  {
   "cell_type": "markdown",
   "metadata": {},
   "source": [
    "Lets check the data types:"
   ]
  },
  {
   "cell_type": "code",
   "execution_count": 28,
   "metadata": {},
   "outputs": [
    {
     "data": {
      "text/plain": [
       "mar1    object\n",
       "sex     object\n",
       "dtype: object"
      ]
     },
     "execution_count": 28,
     "metadata": {},
     "output_type": "execute_result"
    }
   ],
   "source": [
    "mar_gen_df.dtypes"
   ]
  },
  {
   "cell_type": "markdown",
   "metadata": {},
   "source": [
    "Hm, lets change this to categorical. We don't need to specify the categories or set an order, since both fields are nominal.\n",
    "If you override a current dtype a warning will be shown, since I prefer not to see warnings if they are not relevant I can set them to 'none'."
   ]
  },
  {
   "cell_type": "code",
   "execution_count": 32,
   "metadata": {},
   "outputs": [
    {
     "data": {
      "text/plain": [
       "mar1    category\n",
       "sex     category\n",
       "dtype: object"
      ]
     },
     "execution_count": 32,
     "metadata": {},
     "output_type": "execute_result"
    }
   ],
   "source": [
    "pd.options.mode.chained_assignment = None  # default='warn'\n",
    "\n",
    "mar_gen_df['mar1'] = pd.Categorical(mar_gen_df['mar1'])\n",
    "mar_gen_df['sex'] = pd.Categorical(mar_gen_df['sex'])\n",
    "mar_gen_df.dtypes"
   ]
  },
  {
   "cell_type": "markdown",
   "metadata": {},
   "source": [
    "Now a check for missing values:"
   ]
  },
  {
   "cell_type": "code",
   "execution_count": null,
   "metadata": {},
   "outputs": [],
   "source": [
    "mar_gen_df.isna().sum()"
   ]
  },
  {
   "cell_type": "markdown",
   "metadata": {},
   "source": [
    "Sex does not seem to have any missing values, but marital status has 33. We could decide to remove those for our analysis."
   ]
  },
  {
   "cell_type": "code",
   "execution_count": 30,
   "metadata": {},
   "outputs": [
    {
     "data": {
      "text/plain": [
       "mar1    0\n",
       "sex     0\n",
       "dtype: int64"
      ]
     },
     "execution_count": 30,
     "metadata": {},
     "output_type": "execute_result"
    }
   ],
   "source": [
    "mar_gen_df = mar_gen_df.dropna()\n",
    "mar_gen_df.isna().sum()"
   ]
  },
  {
   "cell_type": "markdown",
   "metadata": {},
   "source": [
    "Finally quickly check the categories:"
   ]
  },
  {
   "cell_type": "code",
   "execution_count": 33,
   "metadata": {},
   "outputs": [
    {
     "name": "stdout",
     "output_type": "stream",
     "text": [
      "['MALE', 'FEMALE']\n",
      "Categories (2, object): ['FEMALE', 'MALE']\n",
      "['MARRIED', 'DIVORCED', 'SEPARATED', 'NEVER MARRIED', 'WIDOWED']\n",
      "Categories (5, object): ['DIVORCED', 'MARRIED', 'NEVER MARRIED', 'SEPARATED', 'WIDOWED']\n"
     ]
    }
   ],
   "source": [
    "print(mar_gen_df['sex'].unique())\n",
    "print(mar_gen_df['mar1'].unique())"
   ]
  },
  {
   "cell_type": "markdown",
   "metadata": {},
   "source": [
    "Looks good. We can begin analyzing the data."
   ]
  },
  {
   "cell_type": "markdown",
   "metadata": {},
   "source": [
    "# Step 1: Impression of the Data"
   ]
  },
  {
   "cell_type": "markdown",
   "metadata": {},
   "source": [
    "To get a first impression we could generate a frequency table of each of the two variables. We've seen how to do this in the previous session."
   ]
  },
  {
   "cell_type": "code",
   "execution_count": 34,
   "metadata": {},
   "outputs": [
    {
     "data": {
      "text/plain": [
       "FEMALE    1068\n",
       "MALE       873\n",
       "Name: sex, dtype: int64"
      ]
     },
     "execution_count": 34,
     "metadata": {},
     "output_type": "execute_result"
    }
   ],
   "source": [
    "mar_gen_df['sex'].value_counts()\n"
   ]
  },
  {
   "cell_type": "code",
   "execution_count": 35,
   "metadata": {},
   "outputs": [
    {
     "data": {
      "text/plain": [
       "MARRIED          972\n",
       "NEVER MARRIED    395\n",
       "DIVORCED         314\n",
       "WIDOWED          181\n",
       "SEPARATED         79\n",
       "Name: mar1, dtype: int64"
      ]
     },
     "execution_count": 35,
     "metadata": {},
     "output_type": "execute_result"
    }
   ],
   "source": [
    "mar_gen_df['mar1'].value_counts()"
   ]
  },
  {
   "cell_type": "markdown",
   "metadata": {},
   "source": [
    "However, we are analysing both various simultaniously. So a so-called cross table is more suitable:"
   ]
  },
  {
   "cell_type": "code",
   "execution_count": 36,
   "metadata": {},
   "outputs": [
    {
     "data": {
      "text/html": [
       "<div>\n",
       "<style scoped>\n",
       "    .dataframe tbody tr th:only-of-type {\n",
       "        vertical-align: middle;\n",
       "    }\n",
       "\n",
       "    .dataframe tbody tr th {\n",
       "        vertical-align: top;\n",
       "    }\n",
       "\n",
       "    .dataframe thead th {\n",
       "        text-align: right;\n",
       "    }\n",
       "</style>\n",
       "<table border=\"1\" class=\"dataframe\">\n",
       "  <thead>\n",
       "    <tr style=\"text-align: right;\">\n",
       "      <th>sex</th>\n",
       "      <th>FEMALE</th>\n",
       "      <th>MALE</th>\n",
       "    </tr>\n",
       "    <tr>\n",
       "      <th>mar1</th>\n",
       "      <th></th>\n",
       "      <th></th>\n",
       "    </tr>\n",
       "  </thead>\n",
       "  <tbody>\n",
       "    <tr>\n",
       "      <th>DIVORCED</th>\n",
       "      <td>172</td>\n",
       "      <td>142</td>\n",
       "    </tr>\n",
       "    <tr>\n",
       "      <th>MARRIED</th>\n",
       "      <td>516</td>\n",
       "      <td>456</td>\n",
       "    </tr>\n",
       "    <tr>\n",
       "      <th>NEVER MARRIED</th>\n",
       "      <td>207</td>\n",
       "      <td>188</td>\n",
       "    </tr>\n",
       "    <tr>\n",
       "      <th>SEPARATED</th>\n",
       "      <td>50</td>\n",
       "      <td>29</td>\n",
       "    </tr>\n",
       "    <tr>\n",
       "      <th>WIDOWED</th>\n",
       "      <td>123</td>\n",
       "      <td>58</td>\n",
       "    </tr>\n",
       "  </tbody>\n",
       "</table>\n",
       "</div>"
      ],
      "text/plain": [
       "sex            FEMALE  MALE\n",
       "mar1                       \n",
       "DIVORCED          172   142\n",
       "MARRIED           516   456\n",
       "NEVER MARRIED     207   188\n",
       "SEPARATED          50    29\n",
       "WIDOWED           123    58"
      ]
     },
     "execution_count": 36,
     "metadata": {},
     "output_type": "execute_result"
    }
   ],
   "source": [
    "mar_gen_ct = pd.crosstab(mar_gen_df['mar1'], mar_gen_df['sex'])\n",
    "mar_gen_ct"
   ]
  },
  {
   "cell_type": "markdown",
   "metadata": {},
   "source": [
    "It is clear that most people are Married, but we are not so much interested in which option was chosen the most (that's a single nominal variable analysis), but if there are differences between female and male.\n",
    "\n",
    "To compare these, we can determine the percentage that was chosen for the females, and the males. Note that we look for how much percent of the females are divorced vs. the percentage of males that are divorced. We need to use the column totals to determine the percentage."
   ]
  },
  {
   "cell_type": "code",
   "execution_count": 37,
   "metadata": {},
   "outputs": [
    {
     "data": {
      "text/html": [
       "<div>\n",
       "<style scoped>\n",
       "    .dataframe tbody tr th:only-of-type {\n",
       "        vertical-align: middle;\n",
       "    }\n",
       "\n",
       "    .dataframe tbody tr th {\n",
       "        vertical-align: top;\n",
       "    }\n",
       "\n",
       "    .dataframe thead th {\n",
       "        text-align: right;\n",
       "    }\n",
       "</style>\n",
       "<table border=\"1\" class=\"dataframe\">\n",
       "  <thead>\n",
       "    <tr style=\"text-align: right;\">\n",
       "      <th>sex</th>\n",
       "      <th>FEMALE</th>\n",
       "      <th>MALE</th>\n",
       "    </tr>\n",
       "    <tr>\n",
       "      <th>mar1</th>\n",
       "      <th></th>\n",
       "      <th></th>\n",
       "    </tr>\n",
       "  </thead>\n",
       "  <tbody>\n",
       "    <tr>\n",
       "      <th>DIVORCED</th>\n",
       "      <td>16.104869</td>\n",
       "      <td>16.265750</td>\n",
       "    </tr>\n",
       "    <tr>\n",
       "      <th>MARRIED</th>\n",
       "      <td>48.314607</td>\n",
       "      <td>52.233677</td>\n",
       "    </tr>\n",
       "    <tr>\n",
       "      <th>NEVER MARRIED</th>\n",
       "      <td>19.382022</td>\n",
       "      <td>21.534937</td>\n",
       "    </tr>\n",
       "    <tr>\n",
       "      <th>SEPARATED</th>\n",
       "      <td>4.681648</td>\n",
       "      <td>3.321879</td>\n",
       "    </tr>\n",
       "    <tr>\n",
       "      <th>WIDOWED</th>\n",
       "      <td>11.516854</td>\n",
       "      <td>6.643757</td>\n",
       "    </tr>\n",
       "  </tbody>\n",
       "</table>\n",
       "</div>"
      ],
      "text/plain": [
       "sex               FEMALE       MALE\n",
       "mar1                               \n",
       "DIVORCED       16.104869  16.265750\n",
       "MARRIED        48.314607  52.233677\n",
       "NEVER MARRIED  19.382022  21.534937\n",
       "SEPARATED       4.681648   3.321879\n",
       "WIDOWED        11.516854   6.643757"
      ]
     },
     "execution_count": 37,
     "metadata": {},
     "output_type": "execute_result"
    }
   ],
   "source": [
    "mar_gen_perc = mar_gen_ct.div(mar_gen_ct.sum(axis=0), axis=1)*100\n",
    "mar_gen_perc"
   ]
  },
  {
   "cell_type": "markdown",
   "metadata": {},
   "source": [
    "It appears that the Widowed category has the largest difference, quickly followed by the married category. A visualisation might help."
   ]
  },
  {
   "cell_type": "markdown",
   "metadata": {},
   "source": [
    "# Step 2: Visualisation of the Data"
   ]
  },
  {
   "cell_type": "markdown",
   "metadata": {},
   "source": [
    "The difficulty here is often choosing an appropriate diagram to visualise the data. One suggestion often made for visualising two nominal variables is a Clustered Bar Chart.\n",
    "\n",
    "This diagram is fairly easy if we already made the cross table."
   ]
  },
  {
   "cell_type": "code",
   "execution_count": 39,
   "metadata": {},
   "outputs": [
    {
     "data": {
      "image/png": "[encoded data removed]",
      "text/plain": [
       "<Figure size 432x288 with 1 Axes>"
      ]
     },
     "metadata": {
      "needs_background": "light"
     },
     "output_type": "display_data"
    }
   ],
   "source": [
    "mar_gen_perc.plot(kind='bar')\n",
    "plt.ylabel('Percent of category')\n",
    "plt.xlabel('Marital Status')\n",
    "plt.show()"
   ]
  },
  {
   "cell_type": "markdown",
   "metadata": {},
   "source": [
    "The visualisation confirms what we already saw from the cross table. However, this might be nicer to use in the report than a bunge of number.\n",
    "\n",
    "We notice a few differences, but are these differences also considered significant..."
   ]
  },
  {
   "cell_type": "markdown",
   "metadata": {},
   "source": [
    "# Step 3a: Omnibus Test"
   ]
  },
  {
   "cell_type": "markdown",
   "metadata": {},
   "source": [
    "So, we've seen that in our sample there are some differences between male and females in marital status. Not very big differences, but still. The question is now if this is sufficient evidence to say if these differences will also occur in the population, i.e. is it significant.\n",
    "\n",
    "The statistical test we can use in this case (two nominal variables) is a **Pearson chi-square test of independence**. Sounds scary, but don't worry we'll leave all the heavy computations for this to Python.\n",
    "\n",
    "This test is based on so-called expected values. It determines based on the totals what the counts in our cross table would have been, if gender had no influence on marital status, then compares this to the actual results. If the difference between these expected counts and observed counts is large enough, it would suggest that this assumption is wrong, so gender does influence marital status.\n",
    "\n",
    "Okay, so how do you perform this test with Python? We can use various packages for this, but a popular package for running statistical tests is SciPy. First we install this."
   ]
  },
  {
   "cell_type": "code",
   "execution_count": null,
   "metadata": {},
   "outputs": [],
   "source": [
    "# SciPy\n",
    "try:\n",
    "    import scipy.stats\n",
    "    print('SciPy already installed, only imported')\n",
    "except:\n",
    "    %pip install scipy\n",
    "    import scipy.stats\n",
    "    print('SciPy was not installed, installed and imported')"
   ]
  },
  {
   "cell_type": "markdown",
   "metadata": {},
   "source": [
    "Now we can use it with as parameter our cross table."
   ]
  },
  {
   "cell_type": "code",
   "execution_count": null,
   "metadata": {},
   "outputs": [],
   "source": [
    "chiVal, pVal, df, exp = scipy.stats.chi2_contingency(mar_gen_ct)\n",
    "chiVal, pVal, df, exp"
   ]
  },
  {
   "cell_type": "markdown",
   "metadata": {},
   "source": [
    "That was hopefully easy enough, but what does all of this mean?\n",
    "\n",
    "The first value (16.99) is the chi-square value. It is the number that indicates how big the differences are (to be fully accurate: the sum of squared differences between observed and expected divided by expected count). We don't care much for this value, but should be reported so others can verify your results.\n",
    "\n",
    "The second value (0.0019) is what we were looking for, it is the **significance** or also known as the **p-value**. So as discussed in class, it is the probability of a result as in the sample, or more extreme, if the assumption about the population was true.\n",
    "This value is below 0.05 and therefor usually considered low enough to reject the assumption. The assumption is that gender has no influence on marital status, since this is rejected we conclude that gender does have an influence.\n",
    "\n",
    "The third value (4) is the degrees of freedom. This is an indication about the size of the table (it is the number of columns - 1, multiplied with the number of rows - 1). As the first value, not so interesting for us, but should be reported.\n",
    "\n",
    "The last part is an array showing those earlier mentioned expected counts, i.e. the counts expected if gender had no influence on marital status. We don't report these but we do have to check something here. The chi-square test is only allowed to be used if the lowest value of these is at least 1, and if at least 20% of those values are 5 or higher. In this case we can see that all values are above 5, so this is fine. If it wouldn't be we would have to use another test (a Fisher exact test)."
   ]
  },
  {
   "cell_type": "markdown",
   "metadata": {},
   "source": [
    "So we could now report:\n",
    "\n",
    "   Gender and marital status showed to have a significant association, χ<sup>2</sup>(4, N = 1941) = 16.99, p = .002.\n",
    "\n",
    "All the values were in the output. \n",
    "\n",
    "We now have shown that gender has an influence on marital status, but have not shown which marital status is then affected. We need to perform another test to find this out..."
   ]
  },
  {
   "cell_type": "markdown",
   "metadata": {},
   "source": [
    "# Step 3b: Post-Hoc Test"
   ]
  },
  {
   "cell_type": "markdown",
   "metadata": {},
   "source": [
    "As we finished the previous chapter we need to do another test to pinpoint the categories where there is a difference between male and females. Since we do this test after we have done another test, it is called a **post-hoc test**.\n",
    "\n",
    "One of these post-hoc tests we can perform is a test on the so-called residuals (or adjusted standardized residuals). The residual is the difference between those observed and expected counts. \n",
    "\n",
    "Unfortunately I'm not aware of any package that can run this test, but no worries here is a function that will do this."
   ]
  },
  {
   "cell_type": "code",
   "execution_count": 1,
   "metadata": {},
   "outputs": [],
   "source": [
    "def post_hoc_chi2(crosstable, var1, var2):\n",
    "    col_names = crosstable.columns\n",
    "    col_totals = crosstable.sum()\n",
    "    n_cols = len(col_totals)\n",
    "    row_totals = crosstable.sum(axis=1)\n",
    "    n_rows = len(row_totals)\n",
    "    n = sum(row_totals)\n",
    "\n",
    "    ph_results = pd.DataFrame(columns=[var1, var2, 'Adj. Res.'])\n",
    "    for i in range(n_rows):\n",
    "        for j in range(n_cols):\n",
    "            adj_res = (crosstable.iloc[i,j] - exp[i,j]) / (exp[i,j]*(1-row_totals[i]/n)*(1-col_totals[j]/n))**0.5\n",
    "            ph_results = ph_results.append({var1:crosstable.index[i], var2:crosstable.columns[j], 'Adj. Res.':adj_res}, ignore_index=True)\n",
    "\n",
    "    ph_results['Sig.'] = 2*(1-scipy.stats.norm.cdf(abs(ph_results['Adj. Res.'])))   \n",
    "    ph_results['Adj. Sig.'] = ph_results.shape[0]*ph_results['Sig.']\n",
    "    ph_results.loc[ph_results['Adj. Sig.']> 1, 'Adj. Sig.'] = 1\n",
    "    return ph_results"
   ]
  },
  {
   "cell_type": "markdown",
   "metadata": {},
   "source": [
    "Now to run the function:"
   ]
  },
  {
   "cell_type": "code",
   "execution_count": null,
   "metadata": {},
   "outputs": [],
   "source": [
    "post_hoc_chi2(mar_gen_ct, 'mar1', 'sex')"
   ]
  },
  {
   "cell_type": "markdown",
   "metadata": {},
   "source": [
    "If you are interested in how this function was created, have a look at <a href=\"https://youtu.be/-S8EJEYNFIc\">this video</a>.\n",
    "\n",
    "So what do we get? For each cell we see a familiar *sig* value, but also an *Adj. Sig.*. This last one is the one we are after. The 'Adj' is short for 'adjusted'. Because we performed 9 tests, we need to reduce the risk of a so-called type I error. Each time we perform a test and use 0.05 as the threshold, we take a risk of 5% to make the wrong decision. Now these risks actually start accumulating, and to account for this the normal significance has to be adjusted. This adjustment can be done in different ways, but a popular version is the Bonferroni method, which was used to calculated the Adj. Sig.'.\n",
    "\n",
    "As usual if this is below 0.05 we reject the assumption about the population. In this test this is that the Observed values equal the Expected for that particular cell. As you can see, only for Widowed-Female and Widowed-Male this is below 0.05.\n",
    "\n",
    "So, we can conclude that the percentage of widowed females is significantly different from the percentage of widowed males. Yes, we also established something similar from the visualisation, but that was only about the sample, this applies to the population.\n",
    "\n",
    "So, there is a difference, but could we claim this as a big difference? For that we need one more step..."
   ]
  },
  {
   "cell_type": "markdown",
   "metadata": {},
   "source": [
    "# Step 4: Effect Size"
   ]
  },
  {
   "cell_type": "markdown",
   "metadata": {},
   "source": [
    "With big data, even small differences can become significant. This is why APA recommends to also report an effect size. This simplistically put gives an indication of the strength of the influence or association.\n",
    "\n",
    "A popular effect size for the chi-square test is Cramer's V. It is calculated using the following formula:\n",
    "\n",
    "\\begin{equation*}\n",
    "V = \\sqrt{\\frac{\\chi^2}{n\\times\\left(\\text{MIN}\\left(r, c\\right) - 1\\right)}}\n",
    "\\end{equation*}\n",
    "\n",
    "Where $r$ is the number of rows, $c$ the number of columns, and $n$ the total sample size.\n",
    "\n",
    "Unfortunately Pandas nor SciPy has a function to calculate this directly, but the formula is not as complex as you might think. With the output from the chi-square test earlier, we already have the chi-square value, the others are fairly easy obtainable."
   ]
  },
  {
   "cell_type": "code",
   "execution_count": null,
   "metadata": {},
   "outputs": [],
   "source": [
    "r = len(mar_gen_ct.index)\n",
    "c = len(mar_gen_ct.columns)\n",
    "n = mar_gen_ct.to_numpy().sum()\n",
    "\n",
    "r, c, n"
   ]
  },
  {
   "cell_type": "markdown",
   "metadata": {},
   "source": [
    "Now we can simply fill out the formula:"
   ]
  },
  {
   "cell_type": "code",
   "execution_count": null,
   "metadata": {},
   "outputs": [],
   "source": [
    "V = (chiVal / (n*(min(r,c) - 1)))**0.5\n",
    "V"
   ]
  },
  {
   "cell_type": "markdown",
   "metadata": {},
   "source": [
    "Great, but what does this mean? This value is between 0 and 1. The closer to 0 the weaker the association, the closer to 1 the stronger. \n",
    "\n",
    "Although sometimes frowned upon there are some rules of thumb but they can vary per field and author. Here's one:\n",
    "\n",
    "|df*|negligible|small|medium|large|\n",
    "|:---|:--------|:--------|:--------|:--------|\n",
    "|1|0 < .10|.10 < .30|.30 < .50|.50 or more|\n",
    "|2|0 < .07|.07 < .21|.21 < .35|.35 or more|\n",
    "|3|0 < .06|.06 < .17|.17 < .29|.29 or more|\n",
    "|4|0 < .05|.05 < .15|.15 < .25|.25 or more|\n",
    "|5|0 < .05|.05 < .13|.13 < .22|.22 or more|\n",
    "\n",
    "the df* is the degrees of freedom, which for Cramer's V is the minimum of either the number of rows - 1, or the number of columns - 1 (whichever is smaller).\n",
    "\n",
    "In the example we only had two columns, and five rows. The df* is therefor 2 - 1 = 1. Our Cramer's V was 0.09 which indicates it falls in the 'negligible' category.\n",
    "\n",
    "So, although there is an influence of gender on marital status, it is not a very big influence."
   ]
  },
  {
   "cell_type": "markdown",
   "metadata": {},
   "source": [
    "We could conclude our inferential statistical analysis with something like:\n",
    "\n",
    "Gender and marital status showed to have a significant but negligible association, *χ<sup>2</sup>*(4, *N* = 1941) = 16.99, *p* < .001, *V* = .09. A pairwise z-test post hoc analysis with Bonferroni correction revealed that only for widowed there was a significant difference between the male and female percentage, *p* < .05."
   ]
  },
  {
   "cell_type": "markdown",
   "metadata": {},
   "source": [
    "# Step 5: Report the Results"
   ]
  },
  {
   "cell_type": "markdown",
   "metadata": {},
   "source": [
    "Opinions of course vary on what a good report looks like, but I always recommend to use the following structure:\n",
    "\n",
    "\n",
    "* Introduce the analysis you are about to perform.\n",
    "* Show a visualisation\n",
    "* Describe what you notice or like to focus on from the visualisation\n",
    "* Show the inferential statistical analysis results to test what you noticed\n",
    "* Draw a final conclusion.\n",
    "\n",
    "If you are curious on what that might look like for the analysis we performed in this document, have a look at: https://peterstatistics.com/CrashCourse/3-TwoVarUnpair/NomNom/NomNom-3-Reporting.html\n"
   ]
  },
  {
   "cell_type": "markdown",
   "metadata": {},
   "source": [
    "# What Now?"
   ]
  },
  {
   "cell_type": "markdown",
   "metadata": {},
   "source": [
    "In this notebook we only covered the analysis you could perform if you have two nominal variables. There are plenty of other combinations with two variables (nominal vs. ordinal, ordinal vs. ordinal, etc.).\n",
    "\n",
    "If the two variables were also measured on a same scale (and not only measurement level) you could also look into the so-called paired tests (often used in a 'before and after study'). \n",
    "\n",
    "Also with already one variable you can perform tests, and of course also if you have three or more at once.\n",
    "\n",
    "The question then arises each time: Which visualisation? Which test? Which effect size? In my opinion you don't need to know all of these tests by heart. Others have made selections for you and even placed their suggestions online.\n",
    "\n",
    "A colleague of mine once said \"never miss an oppertunity to promote yourself\", so my suggestion is to use: https://PeterStatistics.com. On this site you find on top a menu with sub-menus covering every possible scenario with one or two variables (and a few with 3 or more paired variables).\n",
    "\n",
    "For example the analysis we performed here is one involving two variables, and since the scales were different two unpaired variables. If you click on 'Two variables - unpaired' and then 'Nominal vs. Nominal', you get to a page with on the left-hand side a menu with the steps we discussed here. In each of those chapters an explanation is given and YouTube videos are shown (by clicking on the 'Click here to see...') for various software programs, including Python."
   ]
  },
  {
   "cell_type": "markdown",
   "metadata": {},
   "source": [
    "# Exercises"
   ]
  },
  {
   "cell_type": "markdown",
   "metadata": {},
   "source": [
    "**Exercise 1**\n",
    "\n",
    "With a data set of your own (you can use any data set that was not used in this course), pick one variable and analyse it using the steps described on https://PeterStatistics.com."
   ]
  },
  {
   "cell_type": "code",
   "execution_count": 2,
   "metadata": {},
   "outputs": [
    {
     "data": {
      "image/png": "[encoded data removed]",
      "text/plain": [
       "<Figure size 432x288 with 1 Axes>"
      ]
     },
     "metadata": {
      "needs_background": "light"
     },
     "output_type": "display_data"
    }
   ],
   "source": [
    "import pandas as pd\n",
    "import matplotlib.pyplot as plt\n",
    "\n",
    "\n",
    "# Read the file\n",
    "data_set = pd.read_csv('files/data_set.csv', low_memory=False)\n",
    "\n",
    "# Get the 2 values from the data set\n",
    "cleaned_set = data_set[\"Level of study\"]\n",
    "\n",
    "# Calculate the percentage of each value\n",
    "perc = (cleaned_set[\"Level of study\"].value_counts())/len(cleaned_set[\"Level of study\"]) * 100\n",
    "\n",
    "# show bar chart\n",
    "perc.plot(kind='bar')\n",
    "plt.xticks(rotation=45)\n",
    "plt.ylabel('Percent')\n",
    "plt.show()"
   ]
  },
  {
   "cell_type": "markdown",
   "metadata": {},
   "source": [
    "**Exercise 2**\n",
    "\n",
    "With a data set of your own (you can use any data set that was not used in this course), pick two non-nominal variables and analyse it using the steps described on https://PeterStatistics.com. So a nominal and ordinal, or nominal and scale, or two ordinal, an ordinal and scale, or two scale variables."
   ]
  },
  {
   "cell_type": "code",
   "execution_count": 3,
   "metadata": {},
   "outputs": [
    {
     "data": {
      "image/png": "[encoded data removed]",
      "text/plain": [
       "<Figure size 432x288 with 1 Axes>"
      ]
     },
     "metadata": {
      "needs_background": "light"
     },
     "output_type": "display_data"
    }
   ],
   "source": [
    "# feel free to add more code blocks.\n",
    "import pandas as pd\n",
    "import matplotlib.pyplot as plt\n",
    "\n",
    "\n",
    "# Read the file\n",
    "data_set = pd.read_csv('files/data_set.csv', low_memory=False)\n",
    "\n",
    "# Get the 2 values from the data set\n",
    "cleaned_set = data_set[[\"Level of study\", \"Mode of study\"]]\n",
    "\n",
    "# Count the values of each value\n",
    "# cleaned_set[\"Mode of study\"] = cleaned_set[\"Mode of study\"].\n",
    "\n",
    "# Create a crosstable with counted values\n",
    "cleaned_set_ct = pd.crosstab(cleaned_set[\"Level of study\"], cleaned_set[\"Mode of study\"])\n",
    "\n",
    "# Calculate the percentage of each value\n",
    "cleaned_set_perc = cleaned_set_ct.div(cleaned_set_ct.sum(axis=0), axis=1)*100\n",
    "\n",
    "# Create visual barchart\n",
    "cleaned_set_ct.plot(kind='barh', stacked=True)\n",
    "plt.ylabel('Level of study')\n",
    "plt.xlabel('Number of participants')\n",
    "plt.show()"
   ]
  },
  {
   "cell_type": "markdown",
   "metadata": {},
   "source": [
    "**Exercise 3**\n",
    "\n",
    "Create a small 'report' of your results of exercise 1 and 2. Each will probably be just one or two pages, so between two and four pages in total. Post your report on the discussion forum on Moodle."
   ]
  },
  {
   "cell_type": "code",
   "execution_count": null,
   "metadata": {},
   "outputs": [],
   "source": []
  },
  {
   "cell_type": "code",
   "execution_count": null,
   "metadata": {},
   "outputs": [],
   "source": []
  }
 ],
 "metadata": {
  "interpreter": {
   "hash": "d36be0860729efc85d753f73f297416c9bfadc27e74b1a96387f62598f642491"
  },
  "kernelspec": {
   "display_name": "Python 3.8.5 64-bit",
   "language": "python",
   "name": "python3"
  },
  "language_info": {
   "codemirror_mode": {
    "name": "ipython",
    "version": 3
   },
   "file_extension": ".py",
   "mimetype": "text/x-python",
   "name": "python",
   "nbconvert_exporter": "python",
   "pygments_lexer": "ipython3",
   "version": "3.8.5"
  }
 },
 "nbformat": 4,
 "nbformat_minor": 4
}
