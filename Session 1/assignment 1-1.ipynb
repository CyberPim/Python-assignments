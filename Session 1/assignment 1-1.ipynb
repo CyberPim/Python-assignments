{
 "cells": [
  {
   "cell_type": "code",
   "execution_count": 8,
   "id": "b1073e69-d9b2-4954-8ce4-ccca8d936bef",
   "metadata": {},
   "outputs": [
    {
     "name": "stdout",
     "output_type": "stream",
     "text": [
      "Total amount: €121.0 including 21% VAT: €21.0 Amount without vat: €100\n"
     ]
    }
   ],
   "source": [
    "def calculateVAT():\n",
    "    amount = input(\"Enter amount to calculate VAT: \")\n",
    "    totalAmount = float(amount) * 1.21\n",
    "    print(\"Total amount: €\" + str(totalAmount) + \" including 21% VAT: €\" + str((totalAmount - (totalAmount/1.21))) + \" Amount without vat: €\" +  str(amount))\n",
    "\n",
    "calculateVAT()"
   ]
  }
 ],
 "metadata": {
  "kernelspec": {
   "display_name": "Python 3 (ipykernel)",
   "language": "python",
   "name": "python3"
  },
  "language_info": {
   "codemirror_mode": {
    "name": "ipython",
    "version": 3
   },
   "file_extension": ".py",
   "mimetype": "text/x-python",
   "name": "python",
   "nbconvert_exporter": "python",
   "pygments_lexer": "ipython3",
   "version": "3.8.5"
  }
 },
 "nbformat": 4,
 "nbformat_minor": 5
}
