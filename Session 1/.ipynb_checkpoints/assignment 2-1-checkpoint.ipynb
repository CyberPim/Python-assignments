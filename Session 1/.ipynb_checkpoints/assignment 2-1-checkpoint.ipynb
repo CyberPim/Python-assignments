{
 "cells": [
  {
   "cell_type": "code",
   "execution_count": 24,
   "id": "84db6397-a450-41cc-889e-cd675c2e74de",
   "metadata": {},
   "outputs": [
    {
     "name": "stdout",
     "output_type": "stream",
     "text": [
      "Student\n",
      "647945\n",
      "Pim\n",
      "8\n",
      "8\n",
      "Student\n",
      "647945\n",
      "Pim\n",
      "8\n",
      "8\n",
      "Pim\n",
      "647945\n",
      "Student\n",
      "8\n",
      "1\n",
      "2\n",
      "3\n",
      "4\n",
      "5\n",
      "6\n",
      "7\n",
      "8\n",
      "9\n",
      "10\n"
     ]
    },
    {
     "ename": "TypeError",
     "evalue": "'builtin_function_or_method' object is not iterable",
     "output_type": "error",
     "traceback": [
      "\u001b[1;31m---------------------------------------------------------------------------\u001b[0m",
      "\u001b[1;31mTypeError\u001b[0m                                 Traceback (most recent call last)",
      "\u001b[1;32m~\\AppData\\Local\\Temp/ipykernel_29752/1315668672.py\u001b[0m in \u001b[0;36m<module>\u001b[1;34m\u001b[0m\n\u001b[0;32m     25\u001b[0m \u001b[0mmy_dictionary\u001b[0m \u001b[1;33m=\u001b[0m  \u001b[1;33m{\u001b[0m\u001b[1;34m\"name\"\u001b[0m\u001b[1;33m:\u001b[0m \u001b[1;34m\"Pim\"\u001b[0m\u001b[1;33m,\u001b[0m \u001b[1;34m\"Cool\"\u001b[0m \u001b[1;33m:\u001b[0m \u001b[1;34m\"Yes\"\u001b[0m\u001b[1;33m,\u001b[0m \u001b[1;36m3\u001b[0m \u001b[1;33m:\u001b[0m \u001b[1;36m5\u001b[0m\u001b[1;33m}\u001b[0m\u001b[1;33m\u001b[0m\u001b[1;33m\u001b[0m\u001b[0m\n\u001b[0;32m     26\u001b[0m \u001b[1;33m\u001b[0m\u001b[0m\n\u001b[1;32m---> 27\u001b[1;33m \u001b[0miterate\u001b[0m\u001b[1;33m(\u001b[0m\u001b[0mmy_list\u001b[0m\u001b[1;33m,\u001b[0m \u001b[0mmy_tuple\u001b[0m\u001b[1;33m,\u001b[0m \u001b[0mmy_set\u001b[0m\u001b[1;33m,\u001b[0m \u001b[0mmy_array\u001b[0m\u001b[1;33m,\u001b[0m \u001b[0mmy_dictionary\u001b[0m\u001b[1;33m)\u001b[0m\u001b[1;33m\u001b[0m\u001b[1;33m\u001b[0m\u001b[0m\n\u001b[0m\u001b[0;32m     28\u001b[0m \u001b[1;33m\u001b[0m\u001b[0m\n\u001b[0;32m     29\u001b[0m \u001b[1;31m# print(my_list)\u001b[0m\u001b[1;33m\u001b[0m\u001b[1;33m\u001b[0m\u001b[0m\n",
      "\u001b[1;32m~\\AppData\\Local\\Temp/ipykernel_29752/1315668672.py\u001b[0m in \u001b[0;36miterate\u001b[1;34m(my_list, my_tuple, my_set, my_array, my_dictionary)\u001b[0m\n\u001b[0;32m     14\u001b[0m         \u001b[0mprint\u001b[0m\u001b[1;33m(\u001b[0m\u001b[0mint\u001b[0m\u001b[1;33m(\u001b[0m\u001b[0mvalue\u001b[0m\u001b[1;33m)\u001b[0m\u001b[1;33m)\u001b[0m\u001b[1;33m\u001b[0m\u001b[1;33m\u001b[0m\u001b[0m\n\u001b[0;32m     15\u001b[0m \u001b[1;33m\u001b[0m\u001b[0m\n\u001b[1;32m---> 16\u001b[1;33m     \u001b[1;32mfor\u001b[0m \u001b[0mitem\u001b[0m \u001b[1;32min\u001b[0m \u001b[0mmy_dictionary\u001b[0m\u001b[1;33m.\u001b[0m\u001b[0mkeys\u001b[0m\u001b[1;33m:\u001b[0m\u001b[1;33m\u001b[0m\u001b[1;33m\u001b[0m\u001b[0m\n\u001b[0m\u001b[0;32m     17\u001b[0m         \u001b[0mprint\u001b[0m\u001b[1;33m(\u001b[0m\u001b[0mstr\u001b[0m\u001b[1;33m(\u001b[0m\u001b[0mitem\u001b[0m\u001b[1;33m)\u001b[0m\u001b[1;33m)\u001b[0m\u001b[1;33m\u001b[0m\u001b[1;33m\u001b[0m\u001b[0m\n\u001b[0;32m     18\u001b[0m \u001b[1;33m\u001b[0m\u001b[0m\n",
      "\u001b[1;31mTypeError\u001b[0m: 'builtin_function_or_method' object is not iterable"
     ]
    }
   ],
   "source": [
    "import array as arr\n",
    "\n",
    "def iterate(my_list, my_tuple, my_set, my_array, my_dictionary):\n",
    "    for item in my_list:\n",
    "        print(item)\n",
    "        \n",
    "    for item in my_tuple:\n",
    "        print(item)\n",
    "        \n",
    "    for item in my_set:\n",
    "        print(item)\n",
    "        \n",
    "    for value in my_array:\n",
    "        print(int(value))\n",
    "        \n",
    "    # for item in my_dictionary.keys:\n",
    "    #     print(str(my_dictionary.keys()))\n",
    "\n",
    "\n",
    "\n",
    "my_list = [\"Student\", 647945, \"Pim\", 8, 8]\n",
    "my_tuple = (\"Student\", 647945, \"Pim\", 8, 8)\n",
    "my_set = {\"Student\", 647945, \"Pim\", 8, 8}\n",
    "my_array = arr.array('i', [1,2,3,4,5,6,7,8,9,10])\n",
    "my_dictionary =  {\"name\": \"Pim\", \"Cool\" : \"Yes\", 3 : 5}\n",
    "\n",
    "iterate(my_list, my_tuple, my_set, my_array, my_dictionary)\n",
    "\n",
    "# print(my_list)\n",
    "# print(my_tuple)\n",
    "# print(my_set)\n",
    "# print(my_array)\n",
    "# print(my_dictionary)\n"
   ]
  },
  {
   "cell_type": "code",
   "execution_count": null,
   "id": "3bc5c424-ad63-48d8-a1d5-0f80bafd542a",
   "metadata": {},
   "outputs": [],
   "source": []
  }
 ],
 "metadata": {
  "kernelspec": {
   "display_name": "Python 3 (ipykernel)",
   "language": "python",
   "name": "python3"
  },
  "language_info": {
   "codemirror_mode": {
    "name": "ipython",
    "version": 3
   },
   "file_extension": ".py",
   "mimetype": "text/x-python",
   "name": "python",
   "nbconvert_exporter": "python",
   "pygments_lexer": "ipython3",
   "version": "3.9.7"
  }
 },
 "nbformat": 4,
 "nbformat_minor": 5
}
