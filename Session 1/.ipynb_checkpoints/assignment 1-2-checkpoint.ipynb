{
 "cells": [
  {
   "cell_type": "code",
   "execution_count": null,
   "id": "af2088aa-da95-4f5c-91ad-5892b05503fb",
   "metadata": {},
   "outputs": [],
   "source": [
    "def is_prime_number(number):\n",
    "    if number > 1:\n",
    "        for i in range(2, number):\n",
    "            if (number % i) == 0:\n",
    "                return False\n",
    "        else: \n",
    "            return True\n",
    "\n",
    "number = int(input(\"Enter number: \"))\n",
    "\n",
    "while number > 0:\n",
    "    print(\"Number \" + str(number) + \" is a prime number: \" + str(is_prime_number(number)))\n",
    "    number = int(input(\"Enter number: \"))\n",
    "    "
   ]
  }
 ],
 "metadata": {
  "kernelspec": {
   "display_name": "Python 3 (ipykernel)",
   "language": "python",
   "name": "python3"
  },
  "language_info": {
   "codemirror_mode": {
    "name": "ipython",
    "version": 3
   },
   "file_extension": ".py",
   "mimetype": "text/x-python",
   "name": "python",
   "nbconvert_exporter": "python",
   "pygments_lexer": "ipython3",
   "version": "3.9.7"
  }
 },
 "nbformat": 4,
 "nbformat_minor": 5
}
