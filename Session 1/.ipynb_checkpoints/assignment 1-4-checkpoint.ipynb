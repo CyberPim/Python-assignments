{
 "cells": [
  {
   "cell_type": "code",
   "execution_count": null,
   "id": "3a9c8483-8375-461d-be13-9a64b31cfd87",
   "metadata": {
    "tags": []
   },
   "outputs": [
    {
     "name": "stdin",
     "output_type": "stream",
     "text": [
      "Enter text:  ;asdml ,;df;á ,df;l,a d';;; ,,,.///.\n"
     ]
    },
    {
     "name": "stdout",
     "output_type": "stream",
     "text": [
      "[2, 6, 7]\n"
     ]
    }
   ],
   "source": [
    "def search_text(text, nr_of_full_stops, nr_of_commas, nr_of_semicolons):\n",
    "    for char in text:\n",
    "        if char == \".\":\n",
    "            nr_of_full_stops[0] = (nr_of_full_stops[0] + 1)\n",
    "        elif char == \",\":\n",
    "            nr_of_commas[0] = (nr_of_commas[0] + 1)\n",
    "        elif char == \";\":\n",
    "            nr_of_semicolons[0] = (nr_of_semicolons[0] + 1)\n",
    "   \n",
    "    return True\n",
    "\n",
    "nr_of_full_stops = [0]\n",
    "nr_of_commas = [0]\n",
    "nr_of_semicolons = [0]\n",
    "\n",
    "\n",
    "text = str(input(\"Enter text: \"))\n",
    "search_text(text, nr_of_full_stops, nr_of_commas, nr_of_semicolons)\n",
    "print(nr_of_full_stops + nr_of_commas + nr_of_semicolons)\n",
    "\n"
   ]
  }
 ],
 "metadata": {
  "kernelspec": {
   "display_name": "Python 3 (ipykernel)",
   "language": "python",
   "name": "python3"
  },
  "language_info": {
   "codemirror_mode": {
    "name": "ipython",
    "version": 3
   },
   "file_extension": ".py",
   "mimetype": "text/x-python",
   "name": "python",
   "nbconvert_exporter": "python",
   "pygments_lexer": "ipython3",
   "version": "3.9.7"
  }
 },
 "nbformat": 4,
 "nbformat_minor": 5
}
