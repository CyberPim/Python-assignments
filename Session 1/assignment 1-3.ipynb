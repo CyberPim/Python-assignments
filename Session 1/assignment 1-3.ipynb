{
 "cells": [
  {
   "cell_type": "code",
   "execution_count": 1,
   "id": "2f3f7dad-6215-4731-bbe7-a8e75d95ded0",
   "metadata": {},
   "outputs": [
    {
     "name": "stdout",
     "output_type": "stream",
     "text": [
      "Is leap year: False\n",
      "Is leap year: False\n",
      "Is leap year: True\n",
      "Is leap year: False\n",
      "Is leap year: False\n",
      "Is leap year: False\n",
      "Is leap year: False\n",
      "Is leap year: False\n",
      "Is leap year: False\n",
      "Is leap year: False\n",
      "Is leap year: False\n",
      "Is leap year: False\n",
      "Is leap year: False\n",
      "Is leap year: False\n",
      "Is leap year: True\n"
     ]
    }
   ],
   "source": [
    "def is_leap_year(year):\n",
    "    if (year % 4) == 0 and (year % 100) != 0:\n",
    "        return True\n",
    "    elif (year % 400) == 0:\n",
    "        return True\n",
    "    else:\n",
    "        return False\n",
    "\n",
    "year = int(input(\"Enter year: \"))\n",
    "\n",
    "while year > 0:\n",
    "    print(\"Is leap year: \" + str(is_leap_year(year)))\n",
    "    year = int(input(\"Enter year: \"))\n"
   ]
  },
  {
   "cell_type": "code",
   "execution_count": null,
   "id": "06b12c95-5063-47ca-82fa-dfd93fd14200",
   "metadata": {},
   "outputs": [],
   "source": []
  }
 ],
 "metadata": {
  "kernelspec": {
   "display_name": "Python 3 (ipykernel)",
   "language": "python",
   "name": "python3"
  },
  "language_info": {
   "codemirror_mode": {
    "name": "ipython",
    "version": 3
   },
   "file_extension": ".py",
   "mimetype": "text/x-python",
   "name": "python",
   "nbconvert_exporter": "python",
   "pygments_lexer": "ipython3",
   "version": "3.8.5"
  }
 },
 "nbformat": 4,
 "nbformat_minor": 5
}
