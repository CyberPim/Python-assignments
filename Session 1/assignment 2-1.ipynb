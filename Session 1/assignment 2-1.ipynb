{
 "cells": [
  {
   "cell_type": "code",
   "execution_count": 1,
   "id": "84db6397-a450-41cc-889e-cd675c2e74de",
   "metadata": {
    "tags": []
   },
   "outputs": [
    {
     "name": "stdout",
     "output_type": "stream",
     "text": [
      "Student\n",
      "647945\n",
      "Pim\n",
      "8\n",
      "8\n",
      "Student\n",
      "647945\n",
      "Pim\n",
      "8\n",
      "8\n",
      "8\n",
      "647945\n",
      "Pim\n",
      "Student\n",
      "1\n",
      "2\n",
      "3\n",
      "4\n",
      "5\n",
      "6\n",
      "7\n",
      "8\n",
      "9\n",
      "10\n",
      "name: Pim\n",
      "Cool: Yes\n",
      "3: 5\n"
     ]
    }
   ],
   "source": [
    "import array as arr\n",
    "\n",
    "def iterate(my_list, my_tuple, my_set, my_array, my_dictionary):\n",
    "    for item in my_list:\n",
    "        print(item)\n",
    "        \n",
    "    for item in my_tuple:\n",
    "        print(item)\n",
    "        \n",
    "    for item in my_set:\n",
    "        print(item)\n",
    "        \n",
    "    for value in my_array:\n",
    "        print(int(value))\n",
    "        \n",
    "    for key, value in my_dictionary.items():\n",
    "        print(f\"{key}: {value}\")\n",
    "\n",
    "\n",
    "\n",
    "my_list = [\"Student\", 647945, \"Pim\", 8, 8]\n",
    "my_tuple = (\"Student\", 647945, \"Pim\", 8, 8)\n",
    "my_set = {\"Student\", 647945, \"Pim\", 8, 8}\n",
    "my_array = arr.array('i', [1,2,3,4,5,6,7,8,9,10])\n",
    "my_dictionary =  {\"name\": \"Pim\", \"Cool\" : \"Yes\", 3 : 5}\n",
    "\n",
    "iterate(my_list, my_tuple, my_set, my_array, my_dictionary)\n"
   ]
  },
  {
   "cell_type": "code",
   "execution_count": null,
   "id": "3bc5c424-ad63-48d8-a1d5-0f80bafd542a",
   "metadata": {},
   "outputs": [],
   "source": []
  }
 ],
 "metadata": {
  "kernelspec": {
   "display_name": "Python 3 (ipykernel)",
   "language": "python",
   "name": "python3"
  },
  "language_info": {
   "codemirror_mode": {
    "name": "ipython",
    "version": 3
   },
   "file_extension": ".py",
   "mimetype": "text/x-python",
   "name": "python",
   "nbconvert_exporter": "python",
   "pygments_lexer": "ipython3",
   "version": "3.8.5"
  }
 },
 "nbformat": 4,
 "nbformat_minor": 5
}
